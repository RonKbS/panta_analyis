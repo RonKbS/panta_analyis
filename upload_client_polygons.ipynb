{
 "metadata": {
  "language_info": {
   "codemirror_mode": {
    "name": "ipython",
    "version": 3
   },
   "file_extension": ".py",
   "mimetype": "text/x-python",
   "name": "python",
   "nbconvert_exporter": "python",
   "pygments_lexer": "ipython3",
   "version": "3.9.2"
  },
  "orig_nbformat": 2,
  "kernelspec": {
   "name": "python392jvsc74a57bd0e6868cda821e825435848912e2aada3070bc7a8a84aa5bcbcb97c731119e320d",
   "display_name": "Python 3.9.2 64-bit ('ml4eo': conda)"
  }
 },
 "nbformat": 4,
 "nbformat_minor": 2,
 "cells": [
  {
   "cell_type": "code",
   "execution_count": 1,
   "metadata": {},
   "outputs": [],
   "source": [
    "# IMPORTS\n",
    "import os\n",
    "import json\n",
    "import time\n",
    "\n",
    "from tqdm import tqdm\n",
    "import requests\n",
    "import geopandas as gpd\n",
    "import pandas as pd"
   ]
  },
  {
   "cell_type": "code",
   "execution_count": 2,
   "metadata": {},
   "outputs": [
    {
     "output_type": "stream",
     "name": "stdout",
     "text": [
      "200\n"
     ]
    }
   ],
   "source": [
    "# SIGN IN\n",
    "\n",
    "url = \"http://localhost:8000\"\n",
    "token = \"\"\n",
    "\n",
    "# TODO: DO NOT PUSH THESE!!!!!!!!!!!!!!!!!!!!!!\n",
    "sign_in = requests.post(\n",
    "    url=f\"{url}/users/authtoken/\",\n",
    "    data={\n",
    "        \"username\": \"\",\n",
    "        \"password\": \"\"\n",
    "    }\n",
    ")\n",
    "if sign_in.status_code == 200:\n",
    "    token = sign_in.json()[\"login\"][\"token\"]\n",
    "    headers = {\"Authorization\": f\"Token {token}\", \"Content-type\": \"application/json\"}\n",
    "\n",
    "    print(sign_in.status_code)\n",
    "else:\n",
    "    print(f\"Issue signing in\\n {sign_in.json()}\")"
   ]
  },
  {
   "cell_type": "code",
   "execution_count": 20,
   "metadata": {},
   "outputs": [
    {
     "output_type": "execute_result",
     "data": {
      "text/plain": [
       "<Response [200]>"
      ]
     },
     "metadata": {},
     "execution_count": 20
    }
   ],
   "source": [
    "# GET/UPDATE FIELD\n",
    "wacky_field = gpd.read_file(\"fixed_wacky_field.geojson\")\n",
    "\n",
    "wacky_field = json.loads(wacky_field.to_json())\n",
    "del wacky_field[\"features\"][0][\"id\"]\n",
    "get_field = requests.put(\n",
    "    url=f\"{url}/layers/getupdatedeletelayer/a50b7391-dcce-494e-b022-844c36bb83ff/\",\n",
    "    headers=headers, data=json.dumps(wacky_field[\"features\"][0])\n",
    ")\n",
    "get_field\n",
    "# wacky_field[\"features\"][0]"
   ]
  },
  {
   "cell_type": "code",
   "execution_count": 16,
   "metadata": {},
   "outputs": [
    {
     "output_type": "stream",
     "name": "stdout",
     "text": [
      "14 is the length of the new fields\n"
     ]
    },
    {
     "output_type": "execute_result",
     "data": {
      "text/plain": [
       "  Crop type                 Farm name(  Acreage (a  \\\n",
       "0   Sorghum     Harieth Jocktan Mwendi         1.0   \n",
       "1   Sorghum     Timotheo Elias Kusenha         1.0   \n",
       "2   Sorghum     Loty Philimon Malekela         1.0   \n",
       "3   Sorghum   Donatela Joseph Gailanga         5.0   \n",
       "4   Sorghum  Sevelina Albino Kuzenjeza         7.0   \n",
       "\n",
       "                               field_id  \\\n",
       "0  916d55e0-8466-4c07-9e25-61acea2aa21d   \n",
       "1  b79a0e85-0077-4fd3-a5b8-b4b09ae6c054   \n",
       "2  8a7eb6ae-9589-4b91-b5a2-1640dc7d47f5   \n",
       "3  291fe995-d405-47d6-8bd7-8e183b65e620   \n",
       "4  d4a52e32-9fae-4687-8d46-ed1d4506c7c1   \n",
       "\n",
       "                                            geometry                   user_id  \n",
       "0  POLYGON ((36.83080 -6.31170, 36.83080 -6.31160...  5f980108050537000a61fa8c  \n",
       "1  POLYGON ((36.82520 -6.31640, 36.82520 -6.31630...  5f980108050537000a61fa8c  \n",
       "2  POLYGON ((36.82630 -6.31640, 36.82630 -6.31630...  5f980108050537000a61fa8c  \n",
       "3  POLYGON ((36.37550 -6.59870, 36.37550 -6.59860...  5f980108050537000a61fa8c  \n",
       "4  POLYGON ((36.38550 -6.62750, 36.38550 -6.62750...  5f980108050537000a61fa8c  "
      ],
      "text/html": "<div>\n<style scoped>\n    .dataframe tbody tr th:only-of-type {\n        vertical-align: middle;\n    }\n\n    .dataframe tbody tr th {\n        vertical-align: top;\n    }\n\n    .dataframe thead th {\n        text-align: right;\n    }\n</style>\n<table border=\"1\" class=\"dataframe\">\n  <thead>\n    <tr style=\"text-align: right;\">\n      <th></th>\n      <th>Crop type</th>\n      <th>Farm name(</th>\n      <th>Acreage (a</th>\n      <th>field_id</th>\n      <th>geometry</th>\n      <th>user_id</th>\n    </tr>\n  </thead>\n  <tbody>\n    <tr>\n      <th>0</th>\n      <td>Sorghum</td>\n      <td>Harieth Jocktan Mwendi</td>\n      <td>1.0</td>\n      <td>916d55e0-8466-4c07-9e25-61acea2aa21d</td>\n      <td>POLYGON ((36.83080 -6.31170, 36.83080 -6.31160...</td>\n      <td>5f980108050537000a61fa8c</td>\n    </tr>\n    <tr>\n      <th>1</th>\n      <td>Sorghum</td>\n      <td>Timotheo Elias Kusenha</td>\n      <td>1.0</td>\n      <td>b79a0e85-0077-4fd3-a5b8-b4b09ae6c054</td>\n      <td>POLYGON ((36.82520 -6.31640, 36.82520 -6.31630...</td>\n      <td>5f980108050537000a61fa8c</td>\n    </tr>\n    <tr>\n      <th>2</th>\n      <td>Sorghum</td>\n      <td>Loty Philimon Malekela</td>\n      <td>1.0</td>\n      <td>8a7eb6ae-9589-4b91-b5a2-1640dc7d47f5</td>\n      <td>POLYGON ((36.82630 -6.31640, 36.82630 -6.31630...</td>\n      <td>5f980108050537000a61fa8c</td>\n    </tr>\n    <tr>\n      <th>3</th>\n      <td>Sorghum</td>\n      <td>Donatela Joseph Gailanga</td>\n      <td>5.0</td>\n      <td>291fe995-d405-47d6-8bd7-8e183b65e620</td>\n      <td>POLYGON ((36.37550 -6.59870, 36.37550 -6.59860...</td>\n      <td>5f980108050537000a61fa8c</td>\n    </tr>\n    <tr>\n      <th>4</th>\n      <td>Sorghum</td>\n      <td>Sevelina Albino Kuzenjeza</td>\n      <td>7.0</td>\n      <td>d4a52e32-9fae-4687-8d46-ed1d4506c7c1</td>\n      <td>POLYGON ((36.38550 -6.62750, 36.38550 -6.62750...</td>\n      <td>5f980108050537000a61fa8c</td>\n    </tr>\n  </tbody>\n</table>\n</div>"
     },
     "metadata": {},
     "execution_count": 16
    }
   ],
   "source": [
    "# UPLOAD AND FORMAT NEW POLYGONS\n",
    "\n",
    "gdf = gpd.read_file(\"corrected_coordinate_system_farmafrica_new.geojson\")\n",
    "\n",
    "# gdf.columns\n",
    "# delete_columns = [\n",
    "#     'id', 'elevation', 'name', 'comment', 'description', 'url', 'url_name',\n",
    "#     'symbol', 'source', 'type', 'feature_type', 'file_name',\n",
    "#     'cmt', 'desc', 'src', 'link1_href', 'link1_text', 'link1_type',\n",
    "#     'link2_href', 'link2_text', 'link2_type', 'number',\n",
    "#     'gpxx_TrackExtension', 'layer', 'path'\n",
    "# ]\n",
    "# gdf[\"pyxus_id\"] = gdf[\"id\"]\n",
    "# gdf.drop(delete_columns, inplace=True, axis=1)\n",
    "gdf['user_id'] = \"\"\n",
    "new_fields = json.loads(gdf.to_json())\n",
    "print(f\"{len(new_fields['features'])} is the length of the new fields\")\n",
    "\n",
    "gdf.head()\n",
    "# new_fields[\"features\"][0]\n",
    "# gdf.iloc[0]\n",
    "# gdf.loc[gdf[\"field_id\"] == \"a0299eaa-83e7-4a26-924c-3c14ebced544\"]\n"
   ]
  },
  {
   "cell_type": "code",
   "execution_count": 17,
   "metadata": {},
   "outputs": [
    {
     "output_type": "stream",
     "name": "stderr",
     "text": [
      "100%|██████████| 14/14 [00:29<00:00,  2.12s/it]\n"
     ]
    }
   ],
   "source": [
    "# UPLOAD NEW POLYGONS LOCALLY\n",
    "\n",
    "if sign_in.status_code == 200:\n",
    "    #########delete all known rows ###########\n",
    "    # for o_field in tqdm(existing_fields[\"features\"]):\n",
    "    #     delete_field = requests.delete(\n",
    "    #         url=f\"{url}/layers/getupdatedeletelayer/{o_field['properties']['field_id']}/\",\n",
    "    #         headers=headers\n",
    "    #     )\n",
    "    ########################################\n",
    "    for n_field in tqdm(new_fields[\"features\"]):\n",
    "        # existing_row = list(filter(\n",
    "        #     lambda field: field[\"properties\"][\"field_id\"] == n_field[\"properties\"][\"field_id\"],\n",
    "        #     existing_fields[\"features\"]\n",
    "        # ))\n",
    "        # if existing_row:\n",
    "        #     existing_row = existing_row[0]\n",
    "        #     try:\n",
    "        #         del existing_row[\"id\"]\n",
    "        #         existing_row[\"properties\"][\"field_attributes\"][\"layer\"] = n_field[\"properties\"][\"layer\"]\n",
    "        #         # delete_field = requests.delete(\n",
    "        #         #     url=f\"{url}/layers/getupdatedeletelayer/{existing_row['properties']['field_id']}/\",\n",
    "        #         #     headers=headers\n",
    "        #         # )\n",
    "        #         # update_field = requests.put(\n",
    "        #         #     url=f\"{url}/layers/getupdatedeletelayer/{existing_row['properties']['field_id']}/\",\n",
    "        #         #     data=json.dumps(existing_row), headers=headers\n",
    "        #         #     # this affects the frontend part as well. Tested it.\n",
    "        #         # )\n",
    "        #         time.sleep(0.5)\n",
    "        #     except KeyError:\n",
    "        #         # print(existing_row.keys(), existing_row[\"properties\"][\"field_id\"])\n",
    "        #         continue\n",
    "        # if not existing_row:\n",
    "        n_field[\"properties\"][\"field_attributes\"] = {}\n",
    "        n_field[\"properties\"][\"field_attributes\"][\"CropType\"] = n_field[\"properties\"][\"Crop type\"]\n",
    "        del n_field[\"properties\"][\"Crop type\"]\n",
    "\n",
    "        n_field[\"properties\"][\"field_attributes\"][\"Farm name(\"] = n_field[\"properties\"][\"Farm name(\"]\n",
    "        del n_field[\"properties\"][\"Farm name(\"]\n",
    "\n",
    "        n_field[\"properties\"][\"field_attributes\"][\"Acreage (a\"] = n_field[\"properties\"][\"Acreage (a\"]\n",
    "        del n_field[\"properties\"][\"Acreage (a\"]\n",
    "        update_field = requests.post(\n",
    "            url=f\"{url}/layers/listcreatepolygonlayer/\",\n",
    "            data=json.dumps(n_field), headers=headers\n",
    "        )\n",
    "        # time.sleep(0.5)\n",
    "else:\n",
    "    print(f\"Failed to sign in. Error is\\n\\n{sign_in.json()}\")"
   ]
  },
  {
   "cell_type": "code",
   "execution_count": null,
   "metadata": {},
   "outputs": [],
   "source": [
    "# UPLOAD NEW POLYGONS HOSTEDLINE\n",
    "\n",
    "bulk_upload = {}\n",
    "for n_field in tqdm(new_fields[\"features\"]):\n",
    "    n_field[\"properties\"][\"field_attributes\"] = {}\n",
    "    n_field[\"properties\"][\"field_attributes\"][\"layer\"] = n_field[\"properties\"][\"layer\"]\n",
    "    del n_field[\"properties\"][\"layer\"]\n",
    "    n_field[\"properties\"][\"field_attributes\"][\"CropType\"] = \"Tobacco\"\n",
    "    bulk_upload[n_field[\"properties\"][\"field_id\"]] = n_field\n",
    "update_field = requests.post(\n",
    "    url=f\"{url}/layers/listcreatepolygonlayer/\",\n",
    "    data=json.dumps(bulk_upload), headers=headers\n",
    ")"
   ]
  },
  {
   "cell_type": "code",
   "execution_count": 12,
   "metadata": {
    "tags": []
   },
   "outputs": [
    {
     "output_type": "stream",
     "name": "stdout",
     "text": [
      "1058 is the length of the old fields\n\n"
     ]
    }
   ],
   "source": [
    "# GET OLD POLYGONS\n",
    "\n",
    "if sign_in.status_code == 200:\n",
    "    existing_fields = requests.get(f\"{url}/layers/listcreatepolygonlayer/\", headers=headers)\n",
    "    existing_fields = existing_fields.json()\n",
    "    print(len(existing_fields[\"features\"]), \"is the length of the old fields\\n\")\n",
    "else:\n",
    "    print(f\"Failed to sign in. Error is\\n\\n{sign_in.json()}\")"
   ]
  },
  {
   "cell_type": "code",
   "execution_count": 13,
   "metadata": {},
   "outputs": [
    {
     "output_type": "stream",
     "name": "stdout",
     "text": [
      "New row length is 0 and old fields are 4278\n"
     ]
    }
   ],
   "source": [
    "# TRIAL\n",
    "# len(existing_fields[\"features\"])\n",
    "gdf = gpd.read_file(\"fixed_single_pyxus_data_16042021.geojson\")\n",
    "json_gdf = json.loads(gdf.to_json())\n",
    "\n",
    "new_pyxus_fields = []\n",
    "found_rows = 0\n",
    "for new_row in json_gdf[\"features\"]:\n",
    "    existing_row = list(filter(\n",
    "        lambda field: field[\"properties\"][\"field_id\"] == new_row[\"properties\"][\"field_id\"],\n",
    "        existing_fields[\"features\"]\n",
    "    ))\n",
    "    if existing_row:\n",
    "        found_rows += 1\n",
    "    elif not existing_row:\n",
    "        new_pyxus_fields.append(new_row)\n",
    "\n",
    "print(\n",
    "    f\"New row length is {len(new_pyxus_fields)} and old fields are {found_rows}\"\n",
    ")\n"
   ]
  },
  {
   "cell_type": "code",
   "execution_count": 48,
   "metadata": {},
   "outputs": [],
   "source": [
    "# DELETE ALL EXISTING ROWS\n",
    "\n",
    "#########delete all known rows ###########\n",
    "# for o_field in tqdm(existing_fields[\"features\"]):\n",
    "#     delete_field = requests.delete(\n",
    "#         url=f\"{url}/layers/getupdatedeletelayer/{o_field['properties']['field_id']}/\",\n",
    "#         headers=headers\n",
    "#     )\n",
    "########################################"
   ]
  },
  {
   "cell_type": "code",
   "execution_count": 28,
   "metadata": {},
   "outputs": [
    {
     "output_type": "stream",
     "name": "stderr",
     "text": [
      "100%|██████████| 1/1 [00:00<00:00,  1.93it/s]\n"
     ]
    }
   ],
   "source": [
    "# REMOVE OLD GRIDS\n",
    "\n",
    "\n",
    "old_grids = requests.get(f\"{url}/layers/gridlayers/\", headers=headers)\n",
    "\n",
    "\n",
    "if old_grids.status_code == 200:\n",
    "    old_grids = old_grids.json()\n",
    "    # with open('check_old_grids.json', 'w') as f:\n",
    "    #     json.dump(old_grids, f)\n",
    "    for o_grid in tqdm(old_grids[\"features\"]):\n",
    "        delete_o_grid = requests.delete(\n",
    "            url=f\"{url}/layers/gridlayers/{o_grid['properties']['field_id']}/\",\n",
    "            headers=headers\n",
    "        )\n",
    "        time.sleep(0.5)"
   ]
  },
  {
   "cell_type": "code",
   "execution_count": 52,
   "metadata": {},
   "outputs": [
    {
     "output_type": "stream",
     "name": "stderr",
     "text": [
      "100%|██████████| 100/100 [00:00<00:00, 334474.00it/s]\n"
     ]
    },
    {
     "output_type": "error",
     "ename": "KeyboardInterrupt",
     "evalue": "",
     "traceback": [
      "\u001b[0;31m---------------------------------------------------------------------------\u001b[0m",
      "\u001b[0;31mKeyboardInterrupt\u001b[0m                         Traceback (most recent call last)",
      "\u001b[0;32m<ipython-input-52-7884f2fe17d5>\u001b[0m in \u001b[0;36m<module>\u001b[0;34m\u001b[0m\n\u001b[1;32m     30\u001b[0m         \u001b[0mbulk_grids\u001b[0m\u001b[0;34m[\u001b[0m\u001b[0mn_grid\u001b[0m\u001b[0;34m[\u001b[0m\u001b[0;34m\"properties\"\u001b[0m\u001b[0;34m]\u001b[0m\u001b[0;34m[\u001b[0m\u001b[0;34m\"field_id\"\u001b[0m\u001b[0;34m]\u001b[0m\u001b[0;34m]\u001b[0m \u001b[0;34m=\u001b[0m \u001b[0mn_grid\u001b[0m\u001b[0;34m\u001b[0m\u001b[0;34m\u001b[0m\u001b[0m\n\u001b[1;32m     31\u001b[0m \u001b[0;34m\u001b[0m\u001b[0m\n\u001b[0;32m---> 32\u001b[0;31m     create_grid = requests.post(\n\u001b[0m\u001b[1;32m     33\u001b[0m         \u001b[0murl\u001b[0m\u001b[0;34m=\u001b[0m\u001b[0;34mf\"{url}/layers/gridlayers/\"\u001b[0m\u001b[0;34m,\u001b[0m\u001b[0;34m\u001b[0m\u001b[0;34m\u001b[0m\u001b[0m\n\u001b[1;32m     34\u001b[0m         \u001b[0mdata\u001b[0m\u001b[0;34m=\u001b[0m\u001b[0mjson\u001b[0m\u001b[0;34m.\u001b[0m\u001b[0mdumps\u001b[0m\u001b[0;34m(\u001b[0m\u001b[0mbulk_grids\u001b[0m\u001b[0;34m)\u001b[0m\u001b[0;34m,\u001b[0m \u001b[0mheaders\u001b[0m\u001b[0;34m=\u001b[0m\u001b[0mheaders\u001b[0m\u001b[0;34m\u001b[0m\u001b[0;34m\u001b[0m\u001b[0m\n",
      "\u001b[0;32m~/miniconda3/envs/ml4eo/lib/python3.9/site-packages/requests/api.py\u001b[0m in \u001b[0;36mpost\u001b[0;34m(url, data, json, **kwargs)\u001b[0m\n\u001b[1;32m    117\u001b[0m     \"\"\"\n\u001b[1;32m    118\u001b[0m \u001b[0;34m\u001b[0m\u001b[0m\n\u001b[0;32m--> 119\u001b[0;31m     \u001b[0;32mreturn\u001b[0m \u001b[0mrequest\u001b[0m\u001b[0;34m(\u001b[0m\u001b[0;34m'post'\u001b[0m\u001b[0;34m,\u001b[0m \u001b[0murl\u001b[0m\u001b[0;34m,\u001b[0m \u001b[0mdata\u001b[0m\u001b[0;34m=\u001b[0m\u001b[0mdata\u001b[0m\u001b[0;34m,\u001b[0m \u001b[0mjson\u001b[0m\u001b[0;34m=\u001b[0m\u001b[0mjson\u001b[0m\u001b[0;34m,\u001b[0m \u001b[0;34m**\u001b[0m\u001b[0mkwargs\u001b[0m\u001b[0;34m)\u001b[0m\u001b[0;34m\u001b[0m\u001b[0;34m\u001b[0m\u001b[0m\n\u001b[0m\u001b[1;32m    120\u001b[0m \u001b[0;34m\u001b[0m\u001b[0m\n\u001b[1;32m    121\u001b[0m \u001b[0;34m\u001b[0m\u001b[0m\n",
      "\u001b[0;32m~/miniconda3/envs/ml4eo/lib/python3.9/site-packages/requests/api.py\u001b[0m in \u001b[0;36mrequest\u001b[0;34m(method, url, **kwargs)\u001b[0m\n\u001b[1;32m     59\u001b[0m     \u001b[0;31m# cases, and look like a memory leak in others.\u001b[0m\u001b[0;34m\u001b[0m\u001b[0;34m\u001b[0m\u001b[0;34m\u001b[0m\u001b[0m\n\u001b[1;32m     60\u001b[0m     \u001b[0;32mwith\u001b[0m \u001b[0msessions\u001b[0m\u001b[0;34m.\u001b[0m\u001b[0mSession\u001b[0m\u001b[0;34m(\u001b[0m\u001b[0;34m)\u001b[0m \u001b[0;32mas\u001b[0m \u001b[0msession\u001b[0m\u001b[0;34m:\u001b[0m\u001b[0;34m\u001b[0m\u001b[0;34m\u001b[0m\u001b[0m\n\u001b[0;32m---> 61\u001b[0;31m         \u001b[0;32mreturn\u001b[0m \u001b[0msession\u001b[0m\u001b[0;34m.\u001b[0m\u001b[0mrequest\u001b[0m\u001b[0;34m(\u001b[0m\u001b[0mmethod\u001b[0m\u001b[0;34m=\u001b[0m\u001b[0mmethod\u001b[0m\u001b[0;34m,\u001b[0m \u001b[0murl\u001b[0m\u001b[0;34m=\u001b[0m\u001b[0murl\u001b[0m\u001b[0;34m,\u001b[0m \u001b[0;34m**\u001b[0m\u001b[0mkwargs\u001b[0m\u001b[0;34m)\u001b[0m\u001b[0;34m\u001b[0m\u001b[0;34m\u001b[0m\u001b[0m\n\u001b[0m\u001b[1;32m     62\u001b[0m \u001b[0;34m\u001b[0m\u001b[0m\n\u001b[1;32m     63\u001b[0m \u001b[0;34m\u001b[0m\u001b[0m\n",
      "\u001b[0;32m~/miniconda3/envs/ml4eo/lib/python3.9/site-packages/requests/sessions.py\u001b[0m in \u001b[0;36mrequest\u001b[0;34m(self, method, url, params, data, headers, cookies, files, auth, timeout, allow_redirects, proxies, hooks, stream, verify, cert, json)\u001b[0m\n\u001b[1;32m    540\u001b[0m         }\n\u001b[1;32m    541\u001b[0m         \u001b[0msend_kwargs\u001b[0m\u001b[0;34m.\u001b[0m\u001b[0mupdate\u001b[0m\u001b[0;34m(\u001b[0m\u001b[0msettings\u001b[0m\u001b[0;34m)\u001b[0m\u001b[0;34m\u001b[0m\u001b[0;34m\u001b[0m\u001b[0m\n\u001b[0;32m--> 542\u001b[0;31m         \u001b[0mresp\u001b[0m \u001b[0;34m=\u001b[0m \u001b[0mself\u001b[0m\u001b[0;34m.\u001b[0m\u001b[0msend\u001b[0m\u001b[0;34m(\u001b[0m\u001b[0mprep\u001b[0m\u001b[0;34m,\u001b[0m \u001b[0;34m**\u001b[0m\u001b[0msend_kwargs\u001b[0m\u001b[0;34m)\u001b[0m\u001b[0;34m\u001b[0m\u001b[0;34m\u001b[0m\u001b[0m\n\u001b[0m\u001b[1;32m    543\u001b[0m \u001b[0;34m\u001b[0m\u001b[0m\n\u001b[1;32m    544\u001b[0m         \u001b[0;32mreturn\u001b[0m \u001b[0mresp\u001b[0m\u001b[0;34m\u001b[0m\u001b[0;34m\u001b[0m\u001b[0m\n",
      "\u001b[0;32m~/miniconda3/envs/ml4eo/lib/python3.9/site-packages/requests/sessions.py\u001b[0m in \u001b[0;36msend\u001b[0;34m(self, request, **kwargs)\u001b[0m\n\u001b[1;32m    653\u001b[0m \u001b[0;34m\u001b[0m\u001b[0m\n\u001b[1;32m    654\u001b[0m         \u001b[0;31m# Send the request\u001b[0m\u001b[0;34m\u001b[0m\u001b[0;34m\u001b[0m\u001b[0;34m\u001b[0m\u001b[0m\n\u001b[0;32m--> 655\u001b[0;31m         \u001b[0mr\u001b[0m \u001b[0;34m=\u001b[0m \u001b[0madapter\u001b[0m\u001b[0;34m.\u001b[0m\u001b[0msend\u001b[0m\u001b[0;34m(\u001b[0m\u001b[0mrequest\u001b[0m\u001b[0;34m,\u001b[0m \u001b[0;34m**\u001b[0m\u001b[0mkwargs\u001b[0m\u001b[0;34m)\u001b[0m\u001b[0;34m\u001b[0m\u001b[0;34m\u001b[0m\u001b[0m\n\u001b[0m\u001b[1;32m    656\u001b[0m \u001b[0;34m\u001b[0m\u001b[0m\n\u001b[1;32m    657\u001b[0m         \u001b[0;31m# Total elapsed time of the request (approximately)\u001b[0m\u001b[0;34m\u001b[0m\u001b[0;34m\u001b[0m\u001b[0;34m\u001b[0m\u001b[0m\n",
      "\u001b[0;32m~/miniconda3/envs/ml4eo/lib/python3.9/site-packages/requests/adapters.py\u001b[0m in \u001b[0;36msend\u001b[0;34m(self, request, stream, timeout, verify, cert, proxies)\u001b[0m\n\u001b[1;32m    437\u001b[0m         \u001b[0;32mtry\u001b[0m\u001b[0;34m:\u001b[0m\u001b[0;34m\u001b[0m\u001b[0;34m\u001b[0m\u001b[0m\n\u001b[1;32m    438\u001b[0m             \u001b[0;32mif\u001b[0m \u001b[0;32mnot\u001b[0m \u001b[0mchunked\u001b[0m\u001b[0;34m:\u001b[0m\u001b[0;34m\u001b[0m\u001b[0;34m\u001b[0m\u001b[0m\n\u001b[0;32m--> 439\u001b[0;31m                 resp = conn.urlopen(\n\u001b[0m\u001b[1;32m    440\u001b[0m                     \u001b[0mmethod\u001b[0m\u001b[0;34m=\u001b[0m\u001b[0mrequest\u001b[0m\u001b[0;34m.\u001b[0m\u001b[0mmethod\u001b[0m\u001b[0;34m,\u001b[0m\u001b[0;34m\u001b[0m\u001b[0;34m\u001b[0m\u001b[0m\n\u001b[1;32m    441\u001b[0m                     \u001b[0murl\u001b[0m\u001b[0;34m=\u001b[0m\u001b[0murl\u001b[0m\u001b[0;34m,\u001b[0m\u001b[0;34m\u001b[0m\u001b[0;34m\u001b[0m\u001b[0m\n",
      "\u001b[0;32m~/miniconda3/envs/ml4eo/lib/python3.9/site-packages/urllib3/connectionpool.py\u001b[0m in \u001b[0;36murlopen\u001b[0;34m(self, method, url, body, headers, retries, redirect, assert_same_host, timeout, pool_timeout, release_conn, chunked, body_pos, **response_kw)\u001b[0m\n\u001b[1;32m    697\u001b[0m \u001b[0;34m\u001b[0m\u001b[0m\n\u001b[1;32m    698\u001b[0m             \u001b[0;31m# Make the request on the httplib connection object.\u001b[0m\u001b[0;34m\u001b[0m\u001b[0;34m\u001b[0m\u001b[0;34m\u001b[0m\u001b[0m\n\u001b[0;32m--> 699\u001b[0;31m             httplib_response = self._make_request(\n\u001b[0m\u001b[1;32m    700\u001b[0m                 \u001b[0mconn\u001b[0m\u001b[0;34m,\u001b[0m\u001b[0;34m\u001b[0m\u001b[0;34m\u001b[0m\u001b[0m\n\u001b[1;32m    701\u001b[0m                 \u001b[0mmethod\u001b[0m\u001b[0;34m,\u001b[0m\u001b[0;34m\u001b[0m\u001b[0;34m\u001b[0m\u001b[0m\n",
      "\u001b[0;32m~/miniconda3/envs/ml4eo/lib/python3.9/site-packages/urllib3/connectionpool.py\u001b[0m in \u001b[0;36m_make_request\u001b[0;34m(self, conn, method, url, timeout, chunked, **httplib_request_kw)\u001b[0m\n\u001b[1;32m    443\u001b[0m                     \u001b[0;31m# Python 3 (including for exceptions like SystemExit).\u001b[0m\u001b[0;34m\u001b[0m\u001b[0;34m\u001b[0m\u001b[0;34m\u001b[0m\u001b[0m\n\u001b[1;32m    444\u001b[0m                     \u001b[0;31m# Otherwise it looks like a bug in the code.\u001b[0m\u001b[0;34m\u001b[0m\u001b[0;34m\u001b[0m\u001b[0;34m\u001b[0m\u001b[0m\n\u001b[0;32m--> 445\u001b[0;31m                     \u001b[0msix\u001b[0m\u001b[0;34m.\u001b[0m\u001b[0mraise_from\u001b[0m\u001b[0;34m(\u001b[0m\u001b[0me\u001b[0m\u001b[0;34m,\u001b[0m \u001b[0;32mNone\u001b[0m\u001b[0;34m)\u001b[0m\u001b[0;34m\u001b[0m\u001b[0;34m\u001b[0m\u001b[0m\n\u001b[0m\u001b[1;32m    446\u001b[0m         \u001b[0;32mexcept\u001b[0m \u001b[0;34m(\u001b[0m\u001b[0mSocketTimeout\u001b[0m\u001b[0;34m,\u001b[0m \u001b[0mBaseSSLError\u001b[0m\u001b[0;34m,\u001b[0m \u001b[0mSocketError\u001b[0m\u001b[0;34m)\u001b[0m \u001b[0;32mas\u001b[0m \u001b[0me\u001b[0m\u001b[0;34m:\u001b[0m\u001b[0;34m\u001b[0m\u001b[0;34m\u001b[0m\u001b[0m\n\u001b[1;32m    447\u001b[0m             \u001b[0mself\u001b[0m\u001b[0;34m.\u001b[0m\u001b[0m_raise_timeout\u001b[0m\u001b[0;34m(\u001b[0m\u001b[0merr\u001b[0m\u001b[0;34m=\u001b[0m\u001b[0me\u001b[0m\u001b[0;34m,\u001b[0m \u001b[0murl\u001b[0m\u001b[0;34m=\u001b[0m\u001b[0murl\u001b[0m\u001b[0;34m,\u001b[0m \u001b[0mtimeout_value\u001b[0m\u001b[0;34m=\u001b[0m\u001b[0mread_timeout\u001b[0m\u001b[0;34m)\u001b[0m\u001b[0;34m\u001b[0m\u001b[0;34m\u001b[0m\u001b[0m\n",
      "\u001b[0;32m~/miniconda3/envs/ml4eo/lib/python3.9/site-packages/urllib3/packages/six.py\u001b[0m in \u001b[0;36mraise_from\u001b[0;34m(value, from_value)\u001b[0m\n",
      "\u001b[0;32m~/miniconda3/envs/ml4eo/lib/python3.9/site-packages/urllib3/connectionpool.py\u001b[0m in \u001b[0;36m_make_request\u001b[0;34m(self, conn, method, url, timeout, chunked, **httplib_request_kw)\u001b[0m\n\u001b[1;32m    438\u001b[0m                 \u001b[0;31m# Python 3\u001b[0m\u001b[0;34m\u001b[0m\u001b[0;34m\u001b[0m\u001b[0;34m\u001b[0m\u001b[0m\n\u001b[1;32m    439\u001b[0m                 \u001b[0;32mtry\u001b[0m\u001b[0;34m:\u001b[0m\u001b[0;34m\u001b[0m\u001b[0;34m\u001b[0m\u001b[0m\n\u001b[0;32m--> 440\u001b[0;31m                     \u001b[0mhttplib_response\u001b[0m \u001b[0;34m=\u001b[0m \u001b[0mconn\u001b[0m\u001b[0;34m.\u001b[0m\u001b[0mgetresponse\u001b[0m\u001b[0;34m(\u001b[0m\u001b[0;34m)\u001b[0m\u001b[0;34m\u001b[0m\u001b[0;34m\u001b[0m\u001b[0m\n\u001b[0m\u001b[1;32m    441\u001b[0m                 \u001b[0;32mexcept\u001b[0m \u001b[0mBaseException\u001b[0m \u001b[0;32mas\u001b[0m \u001b[0me\u001b[0m\u001b[0;34m:\u001b[0m\u001b[0;34m\u001b[0m\u001b[0;34m\u001b[0m\u001b[0m\n\u001b[1;32m    442\u001b[0m                     \u001b[0;31m# Remove the TypeError from the exception chain in\u001b[0m\u001b[0;34m\u001b[0m\u001b[0;34m\u001b[0m\u001b[0;34m\u001b[0m\u001b[0m\n",
      "\u001b[0;32m~/miniconda3/envs/ml4eo/lib/python3.9/http/client.py\u001b[0m in \u001b[0;36mgetresponse\u001b[0;34m(self)\u001b[0m\n\u001b[1;32m   1345\u001b[0m         \u001b[0;32mtry\u001b[0m\u001b[0;34m:\u001b[0m\u001b[0;34m\u001b[0m\u001b[0;34m\u001b[0m\u001b[0m\n\u001b[1;32m   1346\u001b[0m             \u001b[0;32mtry\u001b[0m\u001b[0;34m:\u001b[0m\u001b[0;34m\u001b[0m\u001b[0;34m\u001b[0m\u001b[0m\n\u001b[0;32m-> 1347\u001b[0;31m                 \u001b[0mresponse\u001b[0m\u001b[0;34m.\u001b[0m\u001b[0mbegin\u001b[0m\u001b[0;34m(\u001b[0m\u001b[0;34m)\u001b[0m\u001b[0;34m\u001b[0m\u001b[0;34m\u001b[0m\u001b[0m\n\u001b[0m\u001b[1;32m   1348\u001b[0m             \u001b[0;32mexcept\u001b[0m \u001b[0mConnectionError\u001b[0m\u001b[0;34m:\u001b[0m\u001b[0;34m\u001b[0m\u001b[0;34m\u001b[0m\u001b[0m\n\u001b[1;32m   1349\u001b[0m                 \u001b[0mself\u001b[0m\u001b[0;34m.\u001b[0m\u001b[0mclose\u001b[0m\u001b[0;34m(\u001b[0m\u001b[0;34m)\u001b[0m\u001b[0;34m\u001b[0m\u001b[0;34m\u001b[0m\u001b[0m\n",
      "\u001b[0;32m~/miniconda3/envs/ml4eo/lib/python3.9/http/client.py\u001b[0m in \u001b[0;36mbegin\u001b[0;34m(self)\u001b[0m\n\u001b[1;32m    305\u001b[0m         \u001b[0;31m# read until we get a non-100 response\u001b[0m\u001b[0;34m\u001b[0m\u001b[0;34m\u001b[0m\u001b[0;34m\u001b[0m\u001b[0m\n\u001b[1;32m    306\u001b[0m         \u001b[0;32mwhile\u001b[0m \u001b[0;32mTrue\u001b[0m\u001b[0;34m:\u001b[0m\u001b[0;34m\u001b[0m\u001b[0;34m\u001b[0m\u001b[0m\n\u001b[0;32m--> 307\u001b[0;31m             \u001b[0mversion\u001b[0m\u001b[0;34m,\u001b[0m \u001b[0mstatus\u001b[0m\u001b[0;34m,\u001b[0m \u001b[0mreason\u001b[0m \u001b[0;34m=\u001b[0m \u001b[0mself\u001b[0m\u001b[0;34m.\u001b[0m\u001b[0m_read_status\u001b[0m\u001b[0;34m(\u001b[0m\u001b[0;34m)\u001b[0m\u001b[0;34m\u001b[0m\u001b[0;34m\u001b[0m\u001b[0m\n\u001b[0m\u001b[1;32m    308\u001b[0m             \u001b[0;32mif\u001b[0m \u001b[0mstatus\u001b[0m \u001b[0;34m!=\u001b[0m \u001b[0mCONTINUE\u001b[0m\u001b[0;34m:\u001b[0m\u001b[0;34m\u001b[0m\u001b[0;34m\u001b[0m\u001b[0m\n\u001b[1;32m    309\u001b[0m                 \u001b[0;32mbreak\u001b[0m\u001b[0;34m\u001b[0m\u001b[0;34m\u001b[0m\u001b[0m\n",
      "\u001b[0;32m~/miniconda3/envs/ml4eo/lib/python3.9/http/client.py\u001b[0m in \u001b[0;36m_read_status\u001b[0;34m(self)\u001b[0m\n\u001b[1;32m    266\u001b[0m \u001b[0;34m\u001b[0m\u001b[0m\n\u001b[1;32m    267\u001b[0m     \u001b[0;32mdef\u001b[0m \u001b[0m_read_status\u001b[0m\u001b[0;34m(\u001b[0m\u001b[0mself\u001b[0m\u001b[0;34m)\u001b[0m\u001b[0;34m:\u001b[0m\u001b[0;34m\u001b[0m\u001b[0;34m\u001b[0m\u001b[0m\n\u001b[0;32m--> 268\u001b[0;31m         \u001b[0mline\u001b[0m \u001b[0;34m=\u001b[0m \u001b[0mstr\u001b[0m\u001b[0;34m(\u001b[0m\u001b[0mself\u001b[0m\u001b[0;34m.\u001b[0m\u001b[0mfp\u001b[0m\u001b[0;34m.\u001b[0m\u001b[0mreadline\u001b[0m\u001b[0;34m(\u001b[0m\u001b[0m_MAXLINE\u001b[0m \u001b[0;34m+\u001b[0m \u001b[0;36m1\u001b[0m\u001b[0;34m)\u001b[0m\u001b[0;34m,\u001b[0m \u001b[0;34m\"iso-8859-1\"\u001b[0m\u001b[0;34m)\u001b[0m\u001b[0;34m\u001b[0m\u001b[0;34m\u001b[0m\u001b[0m\n\u001b[0m\u001b[1;32m    269\u001b[0m         \u001b[0;32mif\u001b[0m \u001b[0mlen\u001b[0m\u001b[0;34m(\u001b[0m\u001b[0mline\u001b[0m\u001b[0;34m)\u001b[0m \u001b[0;34m>\u001b[0m \u001b[0m_MAXLINE\u001b[0m\u001b[0;34m:\u001b[0m\u001b[0;34m\u001b[0m\u001b[0;34m\u001b[0m\u001b[0m\n\u001b[1;32m    270\u001b[0m             \u001b[0;32mraise\u001b[0m \u001b[0mLineTooLong\u001b[0m\u001b[0;34m(\u001b[0m\u001b[0;34m\"status line\"\u001b[0m\u001b[0;34m)\u001b[0m\u001b[0;34m\u001b[0m\u001b[0;34m\u001b[0m\u001b[0m\n",
      "\u001b[0;32m~/miniconda3/envs/ml4eo/lib/python3.9/socket.py\u001b[0m in \u001b[0;36mreadinto\u001b[0;34m(self, b)\u001b[0m\n\u001b[1;32m    702\u001b[0m         \u001b[0;32mwhile\u001b[0m \u001b[0;32mTrue\u001b[0m\u001b[0;34m:\u001b[0m\u001b[0;34m\u001b[0m\u001b[0;34m\u001b[0m\u001b[0m\n\u001b[1;32m    703\u001b[0m             \u001b[0;32mtry\u001b[0m\u001b[0;34m:\u001b[0m\u001b[0;34m\u001b[0m\u001b[0;34m\u001b[0m\u001b[0m\n\u001b[0;32m--> 704\u001b[0;31m                 \u001b[0;32mreturn\u001b[0m \u001b[0mself\u001b[0m\u001b[0;34m.\u001b[0m\u001b[0m_sock\u001b[0m\u001b[0;34m.\u001b[0m\u001b[0mrecv_into\u001b[0m\u001b[0;34m(\u001b[0m\u001b[0mb\u001b[0m\u001b[0;34m)\u001b[0m\u001b[0;34m\u001b[0m\u001b[0;34m\u001b[0m\u001b[0m\n\u001b[0m\u001b[1;32m    705\u001b[0m             \u001b[0;32mexcept\u001b[0m \u001b[0mtimeout\u001b[0m\u001b[0;34m:\u001b[0m\u001b[0;34m\u001b[0m\u001b[0;34m\u001b[0m\u001b[0m\n\u001b[1;32m    706\u001b[0m                 \u001b[0mself\u001b[0m\u001b[0;34m.\u001b[0m\u001b[0m_timeout_occurred\u001b[0m \u001b[0;34m=\u001b[0m \u001b[0;32mTrue\u001b[0m\u001b[0;34m\u001b[0m\u001b[0;34m\u001b[0m\u001b[0m\n",
      "\u001b[0;31mKeyboardInterrupt\u001b[0m: "
     ]
    }
   ],
   "source": [
    "# UPLOAD NEW GRIDS\n",
    "\n",
    "with open('new_oppo_grids.json') as f:\n",
    "    new_grids = json.load(f)\n",
    "    # for n_grid in tqdm(new_grids[\"features\"]):\n",
    "    #     n_grid[\"properties\"][\"user_id\"] = \"\"\n",
    "    #     # n_grid[\"properties\"][\"field_attributes\"] = json.loads(\n",
    "    #     #     n_grid[\"properties\"][\"field_attributes\"]\n",
    "    #     # )\n",
    "    #     create_grid = requests.post(\n",
    "    #         url=f\"{url}/layers/gridlayers/\",\n",
    "    #         data=json.dumps(n_grid), headers=headers\n",
    "    #     )\n",
    "    #     time.sleep(0.5)\n",
    "\n",
    "    ########## UPLOADING ONLINE #############\n",
    "    bulk_grids = {}\n",
    "    for n_grid in tqdm(new_grids[\"features\"]):\n",
    "        n_grid[\"properties\"][\"user_id\"] = \"\"\n",
    "        # n_grid[\"properties\"][\"field_attributes\"] = json.loads(\n",
    "        #     n_grid[\"properties\"][\"field_attributes\"]\n",
    "        # )\n",
    "        # del n_grid[\"properties\"][\"id\"]\n",
    "        bulk_grids[n_grid[\"properties\"][\"field_id\"]] = n_grid\n",
    "\n",
    "    create_grid = requests.post(\n",
    "        url=f\"{url}/layers/gridlayers/\",\n",
    "        data=json.dumps(bulk_grids), headers=headers\n",
    "    )"
   ]
  }
 ]
}