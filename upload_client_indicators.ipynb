{
 "metadata": {
  "language_info": {
   "codemirror_mode": {
    "name": "ipython",
    "version": 3
   },
   "file_extension": ".py",
   "mimetype": "text/x-python",
   "name": "python",
   "nbconvert_exporter": "python",
   "pygments_lexer": "ipython3",
   "version": "3.9.2"
  },
  "orig_nbformat": 2,
  "kernelspec": {
   "name": "python392jvsc74a57bd0e6868cda821e825435848912e2aada3070bc7a8a84aa5bcbcb97c731119e320d",
   "display_name": "Python 3.9.2 64-bit ('ml4eo': conda)"
  }
 },
 "nbformat": 4,
 "nbformat_minor": 2,
 "cells": [
  {
   "cell_type": "code",
   "execution_count": 1,
   "metadata": {},
   "outputs": [],
   "source": [
    "# IMPORTS\n",
    "import os\n",
    "import json\n",
    "import time\n",
    "\n",
    "\n",
    "from tqdm import tqdm\n",
    "import pandas as pd\n",
    "\n",
    "import requests\n"
   ]
  },
  {
   "cell_type": "code",
   "execution_count": 2,
   "metadata": {},
   "outputs": [
    {
     "output_type": "stream",
     "name": "stdout",
     "text": [
      "200\n"
     ]
    }
   ],
   "source": [
    "# SIGN_IN\n",
    "url = \"http://localhost:8000\"\n",
    "token = \"\"\n",
    "\n",
    "# TODO: DO NOT PUSH THESE!!!!!!!!!!!!!!!!!!!!!!\n",
    "sign_in = requests.post(\n",
    "    url=f\"{url}/users/authtoken/\",\n",
    "    data={\n",
    "        \"username\": \"\",\n",
    "        \"password\": \"\"\n",
    "    }\n",
    ")\n",
    "if sign_in.status_code == 200:\n",
    "    token = sign_in.json()[\"login\"][\"token\"]\n",
    "    headers = {\"Authorization\": f\"Token {token}\", \"Content-type\": \"application/json\"}\n",
    "\n",
    "    print(sign_in.status_code)\n",
    "else:\n",
    "    print(f\"Issue signing in\\n {sign_in.json()}\")"
   ]
  },
  {
   "cell_type": "code",
   "execution_count": 5,
   "metadata": {},
   "outputs": [
    {
     "output_type": "stream",
     "name": "stderr",
     "text": [
      "100%|██████████| 56/56 [01:37<00:00,  1.74s/it]\n"
     ]
    }
   ],
   "source": [
    "# POST NEW INDICATORS\n",
    "\n",
    "with open('formatted_farmafrica_data_can_finally_move_on.json') as f:\n",
    "    ###### UPLOAD LOCALLY ############\n",
    "    new_indicators = json.load(f)\n",
    "    for n_indicator in tqdm(new_indicators):\n",
    "        n_indicator[\"user_id\"] = \"\"\n",
    "        # print(len(new_indicators), n_indicator)\n",
    "        # break\n",
    "        update_field = requests.post(\n",
    "            url=f\"{url}/layers/fieldindicators/\",\n",
    "            data=json.dumps(n_indicator), headers=headers\n",
    "        )\n",
    "    \n",
    "    ###### UPLOAD ONLINE ##############\n",
    "    # kator_dict = {}\n",
    "    # for n_indicator in new_indicators:\n",
    "    #     n_indicator[\"user_id\"] = \"\"\n",
    "    #     # print(n_indicator)\n",
    "    #     kator_dict[f\"{n_indicator['field_id']}{n_indicator['indicator']}\"] = n_indicator\n",
    "    # update_field = requests.post(\n",
    "    #     url=f\"{url}/layers/fieldindicators/\",\n",
    "    #     data=json.dumps(kator_dict), headers=headers\n",
    "    # )\n",
    "    ################################"
   ]
  },
  {
   "cell_type": "code",
   "execution_count": 22,
   "metadata": {
    "tags": []
   },
   "outputs": [
    {
     "output_type": "stream",
     "name": "stdout",
     "text": [
      "0 is the length of the old fields\n <class 'list'>\n"
     ]
    }
   ],
   "source": [
    "# GET OLD INDICATORS\n",
    "\n",
    "if sign_in.status_code == 200:\n",
    "    existing_indicators = requests.get(f\"{url}/layers/fieldindicators/\", headers=headers)\n",
    "    existing_indicators = existing_indicators.json()\n",
    "    print(len(existing_indicators), \"is the length of the old fields\\n\", type(existing_indicators))\n",
    "else:\n",
    "    print(f\"Failed to sign in. Error is\\n\\n{sign_in.json()}\")"
   ]
  },
  {
   "cell_type": "code",
   "execution_count": 8,
   "metadata": {},
   "outputs": [
    {
     "output_type": "stream",
     "name": "stdout",
     "text": [
      "[{'crop_type': 'Tobacco', 'indicator': 'field_ndvi', 'january': 0.23, 'february': 0.21, 'march': 0.3, 'april': 0.28, 'may': 0.28, 'june': 0.26, 'july': 0.15, 'august': 0.14, 'september': 0.13, 'october': 0.12, 'november': 0.13, 'december': 0.13}, {'crop_type': 'Tobacco', 'indicator': 'field_ndwi', 'january': 0.37, 'february': 0.49, 'march': 0.36, 'april': 0.23, 'may': 0.16, 'june': 0.03, 'july': 0.05, 'august': -0.06, 'september': -0.1, 'october': -0.07, 'november': -0.11, 'december': 0.18}, {'crop_type': 'Tobacco', 'indicator': 'field_rainfall', 'january': 52.22, 'february': 36.09, 'march': 7.87, 'april': 3.48, 'may': 0.5, 'june': 0.96, 'july': 0.71, 'august': 0.2, 'september': 0.26, 'october': 3.64, 'november': 2.94, 'december': 35.65}, {'crop_type': 'Tobacco', 'indicator': 'field_temperature', 'january': 21.99, 'february': 22.28, 'march': 21.48, 'april': 21.9, 'may': 20.57, 'june': 17.67, 'july': 17.24, 'august': 20.27, 'september': 23.76, 'october': 26.97, 'november': 27.33, 'december': 21.84}]\n"
     ]
    },
    {
     "output_type": "execute_result",
     "data": {
      "text/plain": [
       "\"\\nselect * from layers_fieldindicatorcalculations where user_id='5fdb02c45bcec9000a7d19aa'; --- TO SEE DEM\\n\\ndelete * from layers_fieldindicatorcalculations where user_id='5fdb02c45bcec9000a7d19aa';\\n\""
      ]
     },
     "metadata": {},
     "execution_count": 8
    }
   ],
   "source": [
    "# DELETE OLD INDICATOR CALCULATIONS AND ADD THE NEW ONES\n",
    "\n",
    "# GET INDICATOR_CALCNS\n",
    "existing_indicator_calcns = requests.get(f\"{url}/layers/indicatorcalculations/\", headers=headers)\n",
    "existing_indicator_calcns = existing_indicator_calcns.json()\n",
    "print(existing_indicator_calcns)\n",
    "\"\"\"\n",
    "select * from layers_fieldindicatorcalculations where user_id=''; --- TO SEE DEM\n",
    "\n",
    "delete * from layers_fieldindicatorcalculations where user_id='';\n",
    "\"\"\""
   ]
  },
  {
   "cell_type": "code",
   "execution_count": 32,
   "metadata": {},
   "outputs": [
    {
     "output_type": "stream",
     "name": "stderr",
     "text": [
      "100%|██████████| 4/4 [00:10<00:00,  2.63s/it]\n"
     ]
    }
   ],
   "source": [
    "# POST NEW INDICATOR CALCULATIONS\n",
    "\n",
    "# TODO: This needs to be done every month\n",
    "\n",
    "indicators = [\"field_ndvi\", \"field_ndwi\", \"field_rainfall\", \"field_temperature\"]\n",
    "if sign_in.status_code == 200:\n",
    "    with open('new_oppo_field_calcns.json') as f:\n",
    "        new_indicator_calcns = json.load(f)\n",
    "        list_indi_calcs = []\n",
    "        for kator in indicators:\n",
    "            for crop in new_indicator_calcns[kator].keys():\n",
    "                one_row = {**new_indicator_calcns[kator][crop]}\n",
    "                one_row[\"indicator\"] = kator\n",
    "                one_row[\"crop_type\"] = crop\n",
    "                one_row[\"user_id\"] = \"\"\n",
    "                list_indi_calcs.append(one_row)\n",
    "\n",
    "        for row in tqdm(list_indi_calcs):\n",
    "            update_field = requests.post(\n",
    "                url=f\"{url}/layers/indicatorcalculations/\",\n",
    "                data=json.dumps(row), headers=headers\n",
    "            )\n",
    "            time.sleep(1)\n",
    "else:\n",
    "    print(f\"Failed to sign in. Error is\\n\\n{sign_in.json()}\")\n"
   ]
  },
  {
   "cell_type": "code",
   "execution_count": null,
   "metadata": {},
   "outputs": [],
   "source": []
  },
  {
   "cell_type": "code",
   "execution_count": 14,
   "metadata": {},
   "outputs": [],
   "source": [
    "# GENERATE FORECAST CSV\n",
    "\n",
    "ab_df = pd.read_json(\"2021-05-05-abInBev.json\")\n",
    "trias_df = pd.read_json(\"2021-05-05-trias.json\")\n",
    "\n",
    "# print(len(ab_df.index))\n",
    "# len(trias_df.index)\n",
    "ab_df[\"user_id\"] = \"5fa113599e2a01000a655cee\"\n",
    "trias_df[\"user_id\"] = \"605d97e0e68e66000b8ea4be\"\n",
    "# trias_df.head()\n",
    "\n",
    "two_dfs = pd.concat([ab_df, trias_df], ignore_index=True)\n",
    "\n",
    "\n",
    "\n",
    "# REORDER the columns\n",
    "# HARD TO DO IT FROM LIBRE OFFICE CALC\n",
    "# [\"id\",\"field_id\",\"day\",\"user_id\",\"avg_temperature\",\"sum_precipitation\"]\n",
    "# two_dfs = two_dfs.reindex(columns=[\"id\",\"field_id\",\"day\",\"user_id\",\"temperatures.max\",\"precipitation.amount\"])\n",
    "# len(two_dfs.index)\n",
    "# two_dfs.tail()\n",
    "two_dfs.to_csv(\"2021-05-05_trias_abinbev.csv\")"
   ]
  },
  {
   "cell_type": "code",
   "execution_count": null,
   "metadata": {},
   "outputs": [],
   "source": []
  }
 ]
}